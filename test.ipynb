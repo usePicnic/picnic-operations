{
 "cells": [
  {
   "cell_type": "code",
   "execution_count": 1,
   "metadata": {},
   "outputs": [],
   "source": [
    "import requests\n",
    "import os\n",
    "TESULTS_TOKEN = os.getenv(\"TESULTS_TOKEN\")\n"
   ]
  },
  {
   "cell_type": "code",
   "execution_count": 6,
   "metadata": {},
   "outputs": [],
   "source": [
    "url = \"https://www.tesults.com/api/results?target=1658326264884\"\n",
    "headers = {\"Authorization\": f\"Bearer {TESULTS_TOKEN}\"}\n",
    "\n",
    "# Make the API request\n",
    "response = requests.get(url, headers=headers)\n",
    "# Make sure the request was successful\n",
    "\n",
    "if response.status_code == 200:\n",
    "    SUITES = [\n",
    "        \"Featured portfolio withdraw (prod)\",\n",
    "        \"Clone featured portfolios - prod\",\n",
    "    ]\n",
    "    total_pass = []\n",
    "    total_fail = []\n",
    "\n",
    "    # Parse the response as JSON\n",
    "    results = response.json()[\"data\"][\"results\"][\"runs\"]\n",
    "else:\n",
    "    print(f\"Error occurred: code {response.status_code}\")"
   ]
  },
  {
   "cell_type": "code",
   "execution_count": 7,
   "metadata": {},
   "outputs": [],
   "source": [
    "for result in results:\n",
    "        for test in result[\"cases\"]:\n",
    "            if test[\"suite\"] in SUITES:\n",
    "                if test[\"result\"] == \"pass\":\n",
    "                    total_pass.append(test[\"name\"])\n",
    "                else:\n",
    "                    total_fail.append(test[\"name\"])"
   ]
  },
  {
   "cell_type": "code",
   "execution_count": 10,
   "metadata": {},
   "outputs": [
    {
     "data": {
      "text/plain": [
       "(['Withdrawing from featured portfolio - prod -  Jarvis Stables Maxi # 241',\n",
       "  'Withdrawing from featured portfolio - prod -  Kiwi Basket # 479',\n",
       "  'Withdrawing from featured portfolio - prod -  Starter Pack # 545',\n",
       "  'Withdrawing from featured portfolio - prod -  Crypto Maxi # 547',\n",
       "  'Withdrawing from featured portfolio - prod -  Stable Yield Farming # 549',\n",
       "  'Withdrawing from featured portfolio - prod -  Easy_CT_BTC # 678',\n",
       "  'Withdrawing from featured portfolio - prod -  Easy_CT_ETH # 679',\n",
       "  'Withdrawing from featured portfolio - prod -  Easy_PI_USD # 680',\n",
       "  'Withdrawing from featured portfolio - prod -  Basket # 681 # 681',\n",
       "  'Withdrawing from featured portfolio - prod -  Easy_PI_MATIC # 804',\n",
       "  'Withdrawing from featured portfolio - prod -  Easy_PI_BRL # 807',\n",
       "  'Withdrawing from featured portfolio - prod -  Easy_PI_EUR # 862',\n",
       "  'Withdrawing from featured portfolio - prod -  Easy_CT_MATIC # 932',\n",
       "  'Withdrawing from featured portfolio - prod -  Easy_PI_ETH # 940',\n",
       "  'Withdrawing from featured portfolio - prod -  Easy_CT_AAVE # 941',\n",
       "  'Withdrawing from featured portfolio - prod -  Easy_CT_UNI # 942',\n",
       "  'Withdrawing from featured portfolio - prod -  Easy_CT_LDO # 943',\n",
       "  'Withdrawing from featured portfolio - prod -  Easy_CT_PAXG # 982',\n",
       "  'Withdrawing from featured portfolio - prod -  Easy_PI_USD_2 # 998',\n",
       "  'Withdrawing from featured portfolio - prod -  Easy_CT_GRT # 1220',\n",
       "  'Withdrawing from featured portfolio - prod -  Easy_CT_LINK # 1221',\n",
       "  'Withdrawing from featured portfolio - prod -  Alt Power by @cassio.defi # 1323',\n",
       "  'Withdrawing from featured portfolio - prod -  Classic Hodler by @cassio.defi # 1325',\n",
       "  'Withdrawing from featured portfolio - prod -  Just Stables by @cassio.defi # 1326',\n",
       "  'Withdrawing from featured portfolio - prod -  Feel the Burn by @cassio.defi # 1327',\n",
       "  'Clone featured portfolio - prod - Jarvis Stables Maxi - # 241',\n",
       "  'Clone featured portfolio - prod - Kiwi Basket - # 479',\n",
       "  'Clone featured portfolio - prod - Starter Pack - # 545',\n",
       "  'Clone featured portfolio - prod - Crypto Maxi - # 547',\n",
       "  'Clone featured portfolio - prod - Stable Yield Farming - # 549',\n",
       "  'Clone featured portfolio - prod - Easy_CT_BTC - # 678',\n",
       "  'Clone featured portfolio - prod - Easy_CT_ETH - # 679',\n",
       "  'Clone featured portfolio - prod - Easy_PI_USD - # 680',\n",
       "  'Clone featured portfolio - prod - Basket # 681 - # 681',\n",
       "  'Clone featured portfolio - prod - Easy_PI_MATIC - # 804',\n",
       "  'Clone featured portfolio - prod - Easy_PI_BRL - # 807',\n",
       "  'Clone featured portfolio - prod - Easy_PI_EUR - # 862',\n",
       "  'Clone featured portfolio - prod - Easy_CT_MATIC - # 932',\n",
       "  'Clone featured portfolio - prod - Easy_PI_ETH - # 940',\n",
       "  'Clone featured portfolio - prod - Easy_CT_AAVE - # 941',\n",
       "  'Clone featured portfolio - prod - Easy_CT_UNI - # 942',\n",
       "  'Clone featured portfolio - prod - Easy_CT_LDO - # 943',\n",
       "  'Clone featured portfolio - prod - Easy_CT_PAXG - # 982',\n",
       "  'Clone featured portfolio - prod - Easy_PI_USD_2 - # 998',\n",
       "  'Clone featured portfolio - prod - Easy_CT_GRT - # 1220',\n",
       "  'Clone featured portfolio - prod - Easy_CT_LINK - # 1221',\n",
       "  'Clone featured portfolio - prod - Alt Power by @cassio.defi - # 1323',\n",
       "  'Clone featured portfolio - prod - Classic Hodler by @cassio.defi - # 1325',\n",
       "  'Clone featured portfolio - prod - Just Stables by @cassio.defi - # 1326',\n",
       "  'Clone featured portfolio - prod - Feel the Burn by @cassio.defi - # 1327'],\n",
       " 50,\n",
       " 0)"
      ]
     },
     "execution_count": 10,
     "metadata": {},
     "output_type": "execute_result"
    }
   ],
   "source": [
    "total_pass, len(total_pass), len(total_fail)"
   ]
  },
  {
   "cell_type": "code",
   "execution_count": 9,
   "metadata": {},
   "outputs": [
    {
     "data": {
      "text/plain": [
       "[]"
      ]
     },
     "execution_count": 9,
     "metadata": {},
     "output_type": "execute_result"
    }
   ],
   "source": [
    "total_fail"
   ]
  },
  {
   "cell_type": "code",
   "execution_count": null,
   "metadata": {},
   "outputs": [],
   "source": []
  }
 ],
 "metadata": {
  "kernelspec": {
   "display_name": "Python 3",
   "language": "python",
   "name": "python3"
  },
  "language_info": {
   "codemirror_mode": {
    "name": "ipython",
    "version": 3
   },
   "file_extension": ".py",
   "mimetype": "text/x-python",
   "name": "python",
   "nbconvert_exporter": "python",
   "pygments_lexer": "ipython3",
   "version": "3.11.3"
  },
  "orig_nbformat": 4
 },
 "nbformat": 4,
 "nbformat_minor": 2
}
